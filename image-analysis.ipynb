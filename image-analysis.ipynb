{
 "cells": [
  {
   "cell_type": "code",
   "execution_count": 1,
   "metadata": {},
   "outputs": [],
   "source": [
    "import pandas as pd\n",
    "import numpy as np\n",
    "import matplotlib.pyplot as plt\n",
    "import glob\n",
    "from PIL import Image\n",
    "from skimage import io\n",
    "import cv2 as cv"
   ]
  },
  {
   "cell_type": "code",
   "execution_count": null,
   "metadata": {},
   "outputs": [],
   "source": []
  },
  {
   "cell_type": "code",
   "execution_count": 2,
   "metadata": {},
   "outputs": [],
   "source": [
    "dtype = {'patient_id':np.int32, 'nodule_no':np.int32, 'subtlety':np.int32, 'internalStructure':np.int32, 'calcification':np.int32, 'sphericity':np.int32, 'margin': np.int32, 'lobulation':np.int32, 'spiculation':np.int32, 'texture':np.int32, 'malignancy':np.int32, 'nod_sz_per_slice':'category'}\n",
    "meta_df = pd.read_csv('LIDC_data/meta/metadata.csv', index_col='patient_id')\n"
   ]
  },
  {
   "cell_type": "code",
   "execution_count": 3,
   "metadata": {},
   "outputs": [],
   "source": [
    "lnums = meta_df['nod_sz_per_slice'].iloc[0]\n"
   ]
  },
  {
   "cell_type": "code",
   "execution_count": 4,
   "metadata": {},
   "outputs": [],
   "source": [
    "def convertStrToListInt(row):\n",
    "    intlist = [ int(num) for num in row[1:-1].split(', ') ]\n",
    "    return intlist"
   ]
  },
  {
   "cell_type": "code",
   "execution_count": 17,
   "metadata": {},
   "outputs": [],
   "source": [
    "allnums = []\n",
    "for _, row in meta_df.iterrows():\n",
    "    for num in row['nod_sz_per_slice'][1:-1].split(', '):\n",
    "        if num:\n",
    "            allnums.append(int(num))\n"
   ]
  },
  {
   "cell_type": "code",
   "execution_count": 18,
   "metadata": {},
   "outputs": [
    {
     "data": {
      "image/png": "[encoded data removed]",
      "text/plain": [
       "<Figure size 720x504 with 1 Axes>"
      ]
     },
     "metadata": {
      "needs_background": "light"
     },
     "output_type": "display_data"
    }
   ],
   "source": [
    "fig = plt.figure(figsize=(10,7))\n",
    "plt.hist(allnums, bins=500, range=(0,1500))\n",
    "plt.show()\n",
    "# right skewed distribution"
   ]
  },
  {
   "cell_type": "code",
   "execution_count": 2,
   "metadata": {},
   "outputs": [],
   "source": [
    "# average pixel intensity histogram of entier dataset\n",
    "def allHisto(file_loc):\n",
    "    fnames = [i for i in glob.glob(file_loc)]\n",
    "    s=np.array([np.array(cv.imread(fname, -1)) for fname in fnames])\n",
    "    s_avg=np.mean(s, axis=0) \n",
    "\n",
    "    #plot histogram\n",
    "    # print(s_avg.max(), s_avg.min())\n",
    "    plt.hist(s_avg.ravel(),bins=256)\n",
    "    plt.show()"
   ]
  },
  {
   "cell_type": "code",
   "execution_count": 3,
   "metadata": {},
   "outputs": [
    {
     "data": {
      "image/png": "[encoded data removed]",
      "text/plain": [
       "<Figure size 432x288 with 1 Axes>"
      ]
     },
     "metadata": {
      "needs_background": "light"
     },
     "output_type": "display_data"
    },
    {
     "data": {
      "image/png": "[encoded data removed]",
      "text/plain": [
       "<Figure size 432x288 with 1 Axes>"
      ]
     },
     "metadata": {
      "needs_background": "light"
     },
     "output_type": "display_data"
    }
   ],
   "source": [
    "allHisto('/home/rhys/Documents/MScProj/NoisyLabelsMe/LIDC_data/train/scans/*.tif')\n",
    "# size 11260"
   ]
  },
  {
   "cell_type": "markdown",
   "metadata": {},
   "source": [
    "### Stochastic samples images"
   ]
  },
  {
   "cell_type": "code",
   "execution_count": 3,
   "metadata": {},
   "outputs": [
    {
     "name": "stderr",
     "output_type": "stream",
     "text": [
      "/home/rhys/miniconda3/envs/Lung_vessel_segmentation_HRCT/lib/python3.6/site-packages/ipykernel_launcher.py:10: FutureWarning: arrays to stack must be passed as a \"sequence\" type such as list or tuple. Support for non-sequence iterables such as generators is deprecated as of NumPy 1.16 and will raise an error in the future.\n",
      "  # Remove the CWD from sys.path while we load stuff.\n",
      "/home/rhys/miniconda3/envs/Lung_vessel_segmentation_HRCT/lib/python3.6/site-packages/ipykernel_launcher.py:17: FutureWarning: arrays to stack must be passed as a \"sequence\" type such as list or tuple. Support for non-sequence iterables such as generators is deprecated as of NumPy 1.16 and will raise an error in the future.\n"
     ]
    }
   ],
   "source": [
    "import numpy as np\n",
    "import PIL\n",
    "from PIL import Image\n",
    "\n",
    "prefix = '/home/rhys/Documents/MScProj/NoisyLabelsMe/Results/UNet_Conditional_Stochastic_Confusion_Matrices__width24_depth3_train_batch_5_alpha_1.0_e100_lr0.001/visual_results/test_19_'\n",
    "list_im = [prefix + 'img.png', prefix + 'label.png', prefix + 'seg_0.png', prefix + 'seg_1.png', prefix + 'seg_2.png', prefix + 'seg_3.png', prefix + 'seg_4.png']\n",
    "imgs    = [ Image.open(i) for i in list_im ]\n",
    "# pick the image which is the smallest, and resize the others to match it (can be arbitrary image shape here)\n",
    "min_shape = sorted( [(np.sum(i.size), i.size ) for i in imgs])[0][1]\n",
    "imgs_comb = np.hstack( (np.asarray( i.resize(min_shape) ) for i in imgs ) )\n",
    "\n",
    "# save that beautiful picture\n",
    "imgs_comb = Image.fromarray( imgs_comb)\n",
    "imgs_comb.save( 'horizontal.png' )    \n",
    "\n",
    "# for a vertical stacking it is simple: use vstack\n",
    "imgs_comb = np.vstack( (np.asarray( i.resize(min_shape) ) for i in imgs ) )\n",
    "imgs_comb = Image.fromarray( imgs_comb)\n",
    "imgs_comb.save( 'vertical.png' )"
   ]
  }
 ],
 "metadata": {
  "kernelspec": {
   "display_name": "Python 3.6.10 ('Lung_vessel_segmentation_HRCT')",
   "language": "python",
   "name": "python3"
  },
  "language_info": {
   "codemirror_mode": {
    "name": "ipython",
    "version": 3
   },
   "file_extension": ".py",
   "mimetype": "text/x-python",
   "name": "python",
   "nbconvert_exporter": "python",
   "pygments_lexer": "ipython3",
   "version": "3.6.10"
  },
  "orig_nbformat": 4,
  "vscode": {
   "interpreter": {
    "hash": "60c0b920f7ac444c368da2d69263238fbf8c6dd0b23b03ce47e2fc406898cab8"
   }
  }
 },
 "nbformat": 4,
 "nbformat_minor": 2
}
