{
 "cells": [
  {
   "cell_type": "code",
   "execution_count": 1,
   "metadata": {},
   "outputs": [],
   "source": [
    "import pandas as pd\n",
    "import numpy as np\n",
    "import matplotlib.pyplot as plt\n",
    "import glob\n",
    "import cv2 as cv"
   ]
  },
  {
   "cell_type": "markdown",
   "metadata": {},
   "source": [
    "# Histogram of nodule sizes"
   ]
  },
  {
   "cell_type": "code",
   "execution_count": 3,
   "metadata": {},
   "outputs": [],
   "source": [
    "# use path to full lidc data instead\n",
    "dtype = {'patient_id':np.int32, 'nodule_no':np.int32, 'subtlety':np.int32, 'internalStructure':np.int32, 'calcification':np.int32, 'sphericity':np.int32, 'margin': np.int32, 'lobulation':np.int32, 'spiculation':np.int32, 'texture':np.int32, 'malignancy':np.int32, 'nod_sz_per_slice':'category'}\n",
    "meta_df = pd.read_csv('LIDC_examples/meta/metadata.csv', index_col='patient_id')\n"
   ]
  },
  {
   "cell_type": "code",
   "execution_count": 5,
   "metadata": {},
   "outputs": [],
   "source": [
    "def convertStrToListInt(row):\n",
    "    intlist = [ int(num) for num in row[1:-1].split(', ') ]\n",
    "    return intlist"
   ]
  },
  {
   "cell_type": "code",
   "execution_count": 6,
   "metadata": {},
   "outputs": [],
   "source": [
    "allnums = []\n",
    "for _, row in meta_df.iterrows():\n",
    "    for num in row['nod_sz_per_slice'][1:-1].split(', '):\n",
    "        if num:\n",
    "            allnums.append(int(num))\n"
   ]
  },
  {
   "cell_type": "code",
   "execution_count": 7,
   "metadata": {},
   "outputs": [
    {
     "data": {
      "image/png": "[encoded data removed]",
      "text/plain": [
       "<Figure size 720x504 with 1 Axes>"
      ]
     },
     "metadata": {
      "needs_background": "light"
     },
     "output_type": "display_data"
    }
   ],
   "source": [
    "fig = plt.figure(figsize=(10,7))\n",
    "plt.hist(allnums, bins=500, range=(0,1500))\n",
    "plt.xlabel('Nodule size')\n",
    "plt.ylabel('Frequency')\n",
    "plt.show()\n",
    "# right skewed distribution"
   ]
  },
  {
   "cell_type": "markdown",
   "metadata": {},
   "source": [
    "# Average pixel intensity across dataset"
   ]
  },
  {
   "cell_type": "code",
   "execution_count": 8,
   "metadata": {},
   "outputs": [],
   "source": [
    "# average pixel intensity histogram of entier dataset\n",
    "def allHisto(file_loc):\n",
    "    fnames = [i for i in glob.glob(file_loc)]\n",
    "    s=np.array([np.array(cv.imread(fname, -1)) for fname in fnames])\n",
    "    s_avg=np.mean(s, axis=0) \n",
    "\n",
    "    #plot histogram\n",
    "    # print(s_avg.max(), s_avg.min())\n",
    "    plt.hist(s_avg.ravel(),bins=256)\n",
    "    plt.show()"
   ]
  },
  {
   "cell_type": "code",
   "execution_count": 10,
   "metadata": {},
   "outputs": [
    {
     "data": {
      "image/png": "[encoded data removed]",
      "text/plain": [
       "<Figure size 432x288 with 1 Axes>"
      ]
     },
     "metadata": {
      "needs_background": "light"
     },
     "output_type": "display_data"
    }
   ],
   "source": [
    "# change path\n",
    "allHisto('/home/rhys/Documents/MScProj/NoisyLabelsMe/LIDC_examples/train/scans/*.tif')"
   ]
  },
  {
   "cell_type": "code",
   "execution_count": null,
   "metadata": {},
   "outputs": [],
   "source": []
  }
 ],
 "metadata": {
  "kernelspec": {
   "display_name": "Python 3.6.10 ('Lung_vessel_segmentation_HRCT')",
   "language": "python",
   "name": "python3"
  },
  "language_info": {
   "codemirror_mode": {
    "name": "ipython",
    "version": 3
   },
   "file_extension": ".py",
   "mimetype": "text/x-python",
   "name": "python",
   "nbconvert_exporter": "python",
   "pygments_lexer": "ipython3",
   "version": "3.6.10"
  },
  "orig_nbformat": 4,
  "vscode": {
   "interpreter": {
    "hash": "60c0b920f7ac444c368da2d69263238fbf8c6dd0b23b03ce47e2fc406898cab8"
   }
  }
 },
 "nbformat": 4,
 "nbformat_minor": 2
}
